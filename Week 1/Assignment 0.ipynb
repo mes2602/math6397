{
 "cells": [
  {
   "cell_type": "code",
   "execution_count": 12,
   "metadata": {},
   "outputs": [
    {
     "name": "stdout",
     "output_type": "stream",
     "text": [
      "{'Group 1': [1, 15, 17, 14, 3], 'Group 2': [4, 10, 18, 2, 13], 'Group 3': [8, 19, 6, 9, 16], 'Group 4': [5, 12, 11, 7]}\n"
     ]
    }
   ],
   "source": [
    "import numpy as np\n",
    "\n",
    "# Assign random orders to students\n",
    "students = np.linspace(1,19,19).astype(int)\n",
    "order = np.random.random_sample(19)\n",
    "students = dict(zip(order,students))\n",
    "order = sorted(order)\n",
    "\n",
    "\n",
    "# Split randomly ordered students into groups\n",
    "\n",
    "# Three groups of five, one group of four\n",
    "groupsizes = (5,5,5,4)\n",
    "groups = dict()\n",
    "\n",
    "for i in range(4):\n",
    "    groupname = \"Group \" + str(i+1)\n",
    "    \n",
    "    student_group = []\n",
    "    for j in range(groupsizes[i]):\n",
    "        which_next = order[5*i + j]\n",
    "        student_group.append(students.get(which_next))\n",
    "    \n",
    "    groups[groupname] = student_group\n",
    "    \n",
    "\n",
    "    \n",
    "print(groups)\n"
   ]
  }
 ],
 "metadata": {
  "kernelspec": {
   "display_name": "Python 3",
   "language": "python",
   "name": "python3"
  },
  "language_info": {
   "codemirror_mode": {
    "name": "ipython",
    "version": 3
   },
   "file_extension": ".py",
   "mimetype": "text/x-python",
   "name": "python",
   "nbconvert_exporter": "python",
   "pygments_lexer": "ipython3",
   "version": "3.7.4"
  }
 },
 "nbformat": 4,
 "nbformat_minor": 2
}
