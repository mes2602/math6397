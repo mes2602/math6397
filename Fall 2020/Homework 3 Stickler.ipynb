{
 "cells": [
  {
   "cell_type": "markdown",
   "metadata": {},
   "source": [
    "# Question 1\n",
    "\n",
    "Gerstner et al, Eq (8.37): \n",
    "$$P^{trans}(u,t+\\Delta t|u',t) = [1-\\Delta t \\sum_kv_k(t)]\\delta(u-u'e^{{-\\Delta t}/\\tau_M}) + \\Delta t \\sum_kv_k(t)\\delta(u-u'e^{{-\\Delta t}/\\tau_M}-w_k) $$\n",
    "\n",
    "We substitute this into Eq (8.38)\n",
    "\n",
    "$$p(u,t + \\Delta t) = \\int P^{trans}(u,t+\\Delta t|u',t)p(u',t)du' $$\n",
    "\n",
    ":: $$ p(u,t + \\Delta t) = [1-\\Delta t \\sum_kv_k(t)] \\int \\delta(u-u'e^{{-\\Delta t}/\\tau_M})p(u',t)du' + \\Delta t \\sum_kv_k(t) \\int \\delta(u-u'e^{{-\\Delta t}/\\tau_M}-w_k)p(u',t)du'$$\n",
    "\n",
    "which rearranges to \n",
    "$$ p(u,t + \\Delta t) = [1-\\Delta t \\sum_kv_k(t)] \\int \\delta(-e^{{-\\Delta t}/\\tau_M}(u' - ue^{{\\Delta t}/\\tau_M}))p(u',t)du'+ \\Delta t \\sum_kv_k(t) \\int \\delta(-e^{{-\\Delta t}/\\tau_M}(u'-ue^{{\\Delta t}/\\tau_M}-w_k))p(u',t)du'.$$\n",
    "\n",
    "Using $\\delta(ax) = |a^{-1}|\\delta(x)$,\n",
    "\n",
    "$$p(u,t + \\Delta t) = [1-\\Delta t \\sum_kv_k(t)] e^{{\\Delta t}/\\tau_M}\\int \\delta((u' - ue^{{\\Delta t}/\\tau_M}))p(u',t)du'+ \\Delta t \\sum_kv_k(t) e^{{\\Delta t}/\\tau_M}\\int \\delta((u'-ue^{{\\Delta t}/\\tau_M}-w_k))p(u',t)du'. $$\n",
    "\n",
    "Using $\\int f(x)\\delta(x-a)dx = f(a)$, we get Eq (8.39): \n",
    "\n",
    "$$ p(u,t + \\Delta t) = [1-\\Delta t \\sum_kv_k(t)] e^{{\\Delta t}/\\tau_M} p(e^{{\\Delta t}/\\tau_M}u,t) + \\Delta t \\sum_kv_k(t) e^{{\\Delta t}/\\tau_M} p(e^{{\\Delta t}/\\tau_M}u-w_k,t).$$\n",
    "\n",
    "Using the Taylor expansion of $e^{{\\Delta t}/\\tau_M}$, we get (lecture 15) $p(e^{{\\Delta t}/\\tau_M}u,t) \\approx p(u+u\\frac{\\Delta t}{\\tau_M},t) \\approx p(u,t) + \\frac{\\Delta t}{\\tau_M} u \\frac{d}{du}p(u,t)$. $p(e^{{\\Delta t}/\\tau_M}u-w_k,t)$ expands similarly to give\n",
    "\n",
    "$$p(u,t + \\Delta t)-p(u,t) \\approx  [1-\\Delta t \\sum_kv_k(t)]\\Big(1+\\frac{\\Delta t}{\\tau_M}\\Big)\\Big[p(u,t) + \\frac{\\Delta t}{\\tau_M}u\\frac{d}{du}p(u,t)\\Big] + \\Delta t \\sum_kv_k(t)\\Big(1 + \\frac{\\Delta t}{\\tau_M}\\Big)\\big[p(u-w_k,t) + \\frac{\\Delta t}{\\tau_M}u\\frac{d}{du}p(u-w_k,t)\\big] - p(u,t)$$\n",
    "\n",
    "Multiplying out and dropping $(\\Delta t)^2$ terms, \n",
    "\n",
    "$$ p(u,t + \\Delta t)-p(u,t) \\approx  p(u,t) - \\Delta t \\sum_kv_k(t)p(u,t) + \\frac{\\Delta t}{\\tau_M}p(u,t) + \\frac{\\Delta t}{\\tau_M}u\\frac{d}{du}p(u,t) + \\Delta t \\sum_kv_k(t)p(u-w_k,t)$$\n",
    "\n",
    "Which simplifies (dividing by $\\Delta t$) to Eq (8.40):\n",
    "\n",
    "$$\\frac{p(u,t+\\Delta t)-p(u,t)}{\\Delta t} = \\frac{1}{\\tau_M}p(u,t) + \\frac{1}{\\tau_M}u\\frac{d}{du}p(u,t) + \\Delta t \\sum_kv_k(t)\\big[p(u-w_k,t) - p(u,t)\\big] $$\n",
    "\n",
    "When $w_k$ is sufficiently small, we can use the Taylor approximation $p(u-w_k,t) \\approx p(u,t) -w_k\\frac{d}{du}p(u,t) + \\frac{w_k^2}{2}\\frac{d^2}{du^2}p(u,t)$ to get (taking the limit $\\Delta t \\rightarrow 0$ and multiplying by $\\tau_M$)\n",
    "\n",
    "$$\\tau_M\\frac{d}{dt}p(u,t) = p(u,t) + u\\frac{d}{du}p(u,t) + \\tau_M\\sum_kv_k(t)\\Big[ p(u,t) -w_k\\frac{d}{du}p(u,t) + \\frac{w_k^2}{2}\\frac{d^2}{du^2}p(u,t) -p(u,t)\\Big]$$ \n",
    "\n",
    "which simplifies to \n",
    "\n",
    "$$ \\tau_M\\frac{d}{dt}p(u,t) = \\frac{d}{du}[up(u,t)] - \\tau_M \\sum_kv_k(t)\\big[w_k\\frac{d}{du}p(u,t) + \\frac{w_k^2}{2}\\frac{d^2}{du^2}p(u,t)\\big]$$\n",
    "\n",
    "which with a little rearranging becomes Eq (8.41):\n",
    "\n",
    "$$\\tau_M\\frac{d}{dt}p(u,t) = -\\frac{d}{du}\\big[-u + \\tau_M\\sum_kv_k(t)w_k\\big]p(u,t) + \\frac{1}{2}\\big[\\tau_M\\sum_kv_k(t)w_k^2\\big]\\frac{d^2}{du^2}p(u,t) $$"
   ]
  },
  {
   "cell_type": "markdown",
   "metadata": {},
   "source": [
    "# Question 1, cont...\n",
    "Simulate an integrate and fire neuron with Poisson input without threshold to verify that after sufficient time the membrane potential follows the distribution given by Eq. 8.46. You may do this by either running a long simulation and sampling the potential at different times, or by running many simulations."
   ]
  },
  {
   "cell_type": "code",
   "execution_count": 5,
   "metadata": {},
   "outputs": [],
   "source": [
    "# integrate and fire\n",
    "\n",
    "# The Fokker-Planck equation (8.41), is equivalent to (8.7) \n",
    "# with RI(t) = tauM Sigma_k v_k(t) w_k and time-dependent noise \n",
    "# amplitude sigma^2(t) = tau_m Sigma_k v_k(t) w^2_k. (pg 271, Gerstner et al)\n",
    "\n",
    "#(8.7) tau_m du/dt = -u(t) + RI(t) + noise\n",
    "\n",
    "#Implemented by (8.8):\n",
    "#du = (-u + RI)dt/tau_m + sigma*sqrt(dt)*random.normal\n",
    " \n",
    "\n",
    "import numpy as np\n",
    "\n",
    "# set parameters\n",
    "numSteps = 5000000\n",
    "dt = .00001\n",
    "w_k = .001; tauM = 1; v_k = .001\n",
    "\n",
    "# initialize\n",
    "U_poisson = np.zeros(numSteps)+.000001\n",
    "U_langevin = np.zeros(numSteps)\n",
    "\n",
    "# simulate both poisson and langevin versions\n",
    "for t in range(1,numSteps-1):\n",
    "    if np.random.rand() <= v_k:\n",
    "        U_poisson[t+1] = U_poisson[t]*np.exp(-dt/tauM) + w_k\n",
    "    else:\n",
    "        U_poisson[t+1] = U_poisson[t] * np.exp(-dt/tauM)\n",
    "        \n",
    "    U_langevin[t+1] = (U_langevin[t] + dt*((-U_langevin[t] + w_k*v_k*tauM)/tauM) + \n",
    "                       np.sqrt(tauM*v_k*w_k**2*dt)*np.random.normal())"
   ]
  },
  {
   "cell_type": "code",
   "execution_count": 6,
   "metadata": {},
   "outputs": [
    {
     "data": {
      "image/png": "[encoded data removed]",
      "text/plain": [
       "<Figure size 432x288 with 1 Axes>"
      ]
     },
     "metadata": {
      "needs_background": "light"
     },
     "output_type": "display_data"
    }
   ],
   "source": [
    "from scipy import stats\n",
    "import matplotlib.pyplot as plt\n",
    "\n",
    "start = 2500000\n",
    "\n",
    "# Plot sample of langevin points\n",
    "sample_L = U_langevin[start::50]\n",
    "plt.hist(sample_L, bins = 35,density = True,color = 'blue')\n",
    "\n",
    "# This would be for the Poisson version, but that didn't work correctly.\n",
    "#sample_P = U_poisson[start::1000]\n",
    "#plt.hist(sample_P, bins = 300,density = True,color = 'orange')\n",
    "\n",
    "# Plot theoretic stationary distribution\n",
    "mu = (w_k*v_k*tauM)\n",
    "variance = tauM*v_k*w_k**2/2\n",
    "sigma = np.sqrt(variance)\n",
    "x = np.linspace(mu - 3*sigma, mu + 3*sigma, 100)\n",
    "plt.plot(x, stats.norm.pdf(x, mu, sigma), color = 'green', label= \"Gaussian distribution with\"\n",
    "         +\"\\n\" +\" mean \" + r\"$ w_kv_k\\tau_M$\"+\",  variance \"+r\"$\\sqrt{v_k\\tau_Mw_k^2/2}$\")\n",
    "\n",
    "plt.legend(bbox_to_anchor=(1,1), loc=\"upper left\")\n",
    "plt.title(\"Histogram vs theoretic stationary distribution \\n for leaky integrate and fire\")\n",
    "plt.show()\n",
    "#sample_P"
   ]
  },
  {
   "cell_type": "markdown",
   "metadata": {},
   "source": [
    "# Question 2\n",
    "Compare expected first passage time with simulation results for hitting threshold.\n",
    "\n",
    "Using the simplified version of (5.2.158) (Gardiner) given at the end of lecture 16, \n",
    "$$E[T(x)] = \\frac{e^{-\\mu x}}{A(e^{\\mu a}-e^{\\mu b})}\\Big[a(e^{\\mu(a+b)}-e^{\\mu(a+x)})+b(e^{\\mu(a+b)}-e^{\\mu(b+x)})+x(e^{\\mu(b+x)}-e^{\\mu(a+x)})\\Big] $$\n",
    "with the values upper threshold $b$, initial point $x = 0$, $A = v_kw_k\\tau_M$, $B = v_kw_k^2\\tau_M$, and $\\mu = 2A/B = \\frac{2}{w_k}$.\n",
    "As the lower boundary $a$ approaches $-\\infty$, this simplifies to $\\frac{1}{A}$."
   ]
  },
  {
   "cell_type": "code",
   "execution_count": 42,
   "metadata": {},
   "outputs": [],
   "source": [
    "from numba import jit, prange\n",
    "import numpy as np\n",
    "\n",
    "# Returns the result of the above equation\n",
    "@jit\n",
    "def ET(a,b,x,vk,wk,tauM):\n",
    "\n",
    "    A = vk*wk*tauM\n",
    "    B = vk*wk**2*tauM\n",
    "\n",
    "    mu = 2/wk\n",
    "    def ee(arg):\n",
    "        ee = np.exp(mu*arg)\n",
    "        return ee\n",
    "    \n",
    "    part1 = ee(-x)/(A*(ee(a)-ee(b)))\n",
    "    part2 = (a*(ee(a+b)-ee(a+x))\n",
    "            + b*(ee(a+b)-ee(b+x))\n",
    "            + x*(ee(b+x)-ee(a+x)))\n",
    "\n",
    "    return part1*part2\n",
    "\n",
    "@jit\n",
    "def simET(th,x,vk,wk,tauM,numTrials):\n",
    "    timeList = np.zeros(numTrials)\n",
    "    dt = th*(.0000001)\n",
    "    sqdt = np.sqrt(dt)\n",
    "    sigma = np.sqrt(tauM*vk*wk*wk)\n",
    "    \n",
    "    for i in prange(numTrials):\n",
    "        time = 0\n",
    "        U = x\n",
    "        while U <= th:\n",
    "            U = U + dt*((-U + wk*vk*tauM)/tauM) + sigma*sqdt*np.random.normal()\n",
    "            time += dt\n",
    "            \n",
    "        timeList[i] = time\n",
    "    \n",
    "    return np.mean(timeList)\n",
    "\n",
    "# The above, but without the parallel processing\n",
    "@jit\n",
    "def simETNone(th,x,vk,wk,tauM,numTrials):\n",
    "    timeList = np.zeros(numTrials)\n",
    "    dt = th*.1\n",
    "    \n",
    "    \n",
    "    for i in range(numTrials):\n",
    "        time = 0\n",
    "        U = x\n",
    "        while U < th:\n",
    "            U = U + dt*((-U + wk*vk*tauM)/tauM) + np.sqrt(2*tauM*vk*wk**2*dt)*np.random.normal()\n",
    "            time += dt\n",
    "            \n",
    "        timeList[i] = time\n",
    "        print(\"finished trial \" + str(i))\n",
    "    \n",
    "    return np.mean(timeList)\n",
    "\n"
   ]
  },
  {
   "cell_type": "code",
   "execution_count": 5,
   "metadata": {},
   "outputs": [],
   "source": [
    "numTrials = 3\n",
    "wk = .01; tauM = 1; vk = .001\n",
    "x = 0\n",
    "lower_thresholds = [-.00001,-.001,-.1,-1,-1.0,-1.25,-1.5]\n",
    "upper_th = .0001\n",
    "#ths = [-1,-1]\n",
    "ETs = [ET(lower_th,upper_th,x,vk,wk,tauM) for lower_th in lower_thresholds]\n",
    "simETs = simET(upper_th,x,vk,wk,tauM,numTrials)"
   ]
  },
  {
   "cell_type": "code",
   "execution_count": 47,
   "metadata": {},
   "outputs": [
    {
     "data": {
      "image/png": "[encoded data removed]",
      "text/plain": [
       "<Figure size 432x288 with 1 Axes>"
      ]
     },
     "metadata": {
      "needs_background": "light"
     },
     "output_type": "display_data"
    }
   ],
   "source": [
    "import matplotlib.pyplot as plt\n",
    "numTrials = 1500\n",
    "wk = .1; tauM = 1; vk = .1\n",
    "x = 0\n",
    "lower_thresholds = [-.00001,-.001,-.1,-1,-1.0,-1.25,-1.5,-3,-5]\n",
    "upper_th = .00075\n",
    "#ths = [-1,-1]\n",
    "ETs = [ET(lower_th,upper_th,x,vk,wk,tauM) for lower_th in lower_thresholds]\n",
    "simETs = simET(upper_th,x,vk,wk,tauM,numTrials)\n",
    "\n",
    "\n",
    "plt.plot(lower_thresholds,ETs, label = \"theoretic\")\n",
    "plt.plot(lower_thresholds,np.repeat(simETs,len(lower_thresholds)),label = \"simulations \"+ \"\\n\"+\"(no lower threshold)\")\n",
    "\n",
    "plt.ylabel(\"first passage time\")\n",
    "plt.xlabel(\"lower threshold\")\n",
    "plt.legend()\n",
    "plt.title(\"First passage time for a single absorbing boundary\")\n",
    "plt.show()"
   ]
  },
  {
   "cell_type": "markdown",
   "metadata": {},
   "source": [
    "# Question 3\n",
    " \n",
    "Suppose the times between spikes are distributed according to a gamma distribution $\\Gamma(\\alpha,\\beta)$. \n",
    "\n",
    "a) Compute coefficient of variation of interspike interval\n",
    "$$\\mu_\\Gamma = \\frac{\\alpha}{\\beta}, \\sigma^2_\\Gamma = \\frac{\\alpha}{\\beta^2} $$\n",
    "$$c_{V_\\Gamma} =  \\frac{\\sigma_\\Gamma}{\\mu_\\Gamma} = \\sqrt{\\frac{\\alpha}{\\beta^2}}\\frac{\\beta}{\\alpha} = \\frac{1}{\\sqrt{\\alpha}}$$\n",
    "\n",
    "b) Compute the same for an Erlang distribution with parameters $k$, $\\lambda$.\n",
    "$$\\mu_{Erl} = \\frac{k}{\\lambda}, \\sigma^2_{Erl} = \\frac{k}{\\lambda^2} $$\n",
    "$$c_{V_{Erl}} = \\frac{\\sigma_{Erl}}{\\mu_{Erl}} = \\sqrt{\\frac{k}{\\lambda^2}}\\frac{\\lambda}{k} = \\frac{1}{\\sqrt{k}} $$"
   ]
  },
  {
   "cell_type": "markdown",
   "metadata": {},
   "source": [
    "# Question 4\n",
    "\n",
    "A two-allele moran process with mutation but no selection has the master equation\n",
    "$$\\frac{dP(n,t)}{dt} = -P(n,t)\\big[T(n+1|n)+T(n-1|n)\\big] + P(n+1,t)T(n|n+1) + P(n-1,t)T(n|n-1) $$\n",
    "\n",
    "Setting $x =n/N$, Taylor expand the master equation up to order $1/N^2$ to obtain the associated Fokker-Planck equation.\n",
    "\n",
    ":\n",
    "Switching $x = n/N$, the master equation becomes\n",
    "$$\\frac{dP(x,t)}{dt} = -P(x,t)\\big[T(x+1/N|x) + T(x-1/N|x)\\big] + P(x+1/N,t)T(x|x+1/N) + P(x-1/N,t)T(x|x-1/N) $$\n",
    "\n",
    "Including Taylor expansions and writing out definitions,\n",
    "$$\\frac{dP}{dt} = -P\\big[(1-u)(1-x)x+v(1-x)^2 + (1-v)x(1-x) + ux^2\\big] $$ $$ + \\big[P+\\frac{1}{N}\\frac{dP}{dx} + \\frac{1}{N^2}\\frac{d^2P}{dx^2}\\big]\\big[(1-v)(x+1/N)(1-x-1/N)+u(x+1/N)^2\\big] $$ $$+ \\big[P - \\frac{1}{N}\\frac{dP}{dx} + \\frac{1}{N^2}\\frac{d^2P}{dx^2}\\big]\\big[(1-u)(1-x+1/N)(x-1/N)+v(1-x+1/N)^2\\big] $$\n",
    "\n",
    "Regrouping and simplifying, then dropping terms of $\\frac{1}{N^3}$ or higher,\n",
    "$$\\frac{dP}{dt} = P\\Big[\\frac{1}{N^2}\\Big((u+v)(2+N) -2\\Big)\\Big] + \\frac{dP}{dx}\\Big[\\frac{1}{N^2}\\Big(ux(4+N)+vx(4+N) -u-v(3+N)-4x+2\\Big)\\Big] + \\frac{1}{N^2}\\frac{d^2P}{dx^2}\\Big[\\Big( u(2x^2-x) + v(2x^2-3x-1) + (x-x^2)\\Big)\\Big]$$\n",
    "\n",
    "Rescaling using $u = \\frac{u'}{N}$, $v = \\frac{v'}{N}$,\n",
    "$$\\frac{dP}{dt} = P\\Big[\\frac{1}{N^2}\\Big(\\frac{1}{N}(u'+v')(2+N) -2\\Big)\\Big] + \\frac{dP}{dx}\\Big[\\frac{1}{N^2}\\Big(\\frac{1}{N}(u'+v')x(4+N) -\\frac{u'}{N}-\\frac{v'}{N}(3+N)-4x+2\\Big)\\Big] + \\frac{d^2P}{dx^2}\\Big[\\frac{1}{N^2}\\Big(\\frac{2u'}{N} + \\frac{2v'}{N} -2 + 2u' + 2v' + u'N(2x^2-x) + v'N(2x^2-3x-1) + N^2(x-x^2)\\Big)\\Big] $$\n",
    "\n",
    "Again dropping terms of $\\frac{1}{N^3}$ or higher,\n",
    "$$\\frac{dP}{dt} = P\\Big[\\frac{1}{N^2}\\Big((u'+v') -2\\Big)\\Big] + \\frac{dP}{dx}\\Big[\\frac{1}{N^2}\\Big((u'+v')x -2v'-4x+2\\Big)\\Big] + \\frac{d^2P}{dx^2}\\Big[\\frac{1}{N^2}\\Big((x-x^2)\\Big)\\Big] $$\n",
    "\n",
    "\n",
    "Rearranging, \n",
    "$$\\frac{dP}{dt} = \\frac{1}{N^2}\\Big[u'P + ux'P -c'\\frac{dP}{dx} + v'P + v'x\\frac{dP}{dx}\\Big] + \\frac{1}{N^2}\\Big[2\\frac{dP}{dx} + x\\frac{d^2P}{dx^2} -2P -4x\\frac{dP}{dx} - x^2\\frac{d^2P}{dx^2}\\Big] $$\n",
    "\n",
    "Which simplifies to \n",
    "$$\\frac{dP}{dt}  = \\frac{1}{N}\\frac{d}{dx}\\Big[\\Big(ux-v(1-x)\\Big)P\\Big] + \\frac{1}{N^2}\\frac{d^2}{dx^2}\\Big[x(1-x)P\\Big] $$."
   ]
  },
  {
   "cell_type": "markdown",
   "metadata": {},
   "source": [
    "# Question 5\n",
    "\n",
    "Estimate hitting time via simulation for the two-step adaptation process from Lecture 17. Initialize the population so that all individuals have genotype 1. Let $\\mu_{12}$ be the rate of mutation $g_1 \\rightarrow g_2$, and $\\mu_{23}$ the rate of mutation $g_2 \\rightarrow g_3$. With a haploid Moran process, estimate the expected time for the population to produce a member with $g_3$ for mutation rates \n",
    "\n",
    "(i) $\\mu_{12} = \\mu_{23} = 0.1/N$, \n",
    "\n",
    "(ii) $\\mu_{12} = \\mu_{23} = 1/N$ and \n",
    "\n",
    "(iii) $\\mu_{12} = \\mu_{23} = 10/N$ \n",
    "\n",
    "using $N = 1000$ in all cases. \n",
    "\n",
    "How do the results compare to the naive expectation that the waiting time should be $\\approx 1/\\mu$?\n",
    "- The naive expectation seems to consistently underestimate the simultation mean."
   ]
  },
  {
   "cell_type": "code",
   "execution_count": 44,
   "metadata": {},
   "outputs": [],
   "source": [
    "from numba import jit,prange\n",
    "import numpy as np\n",
    "# one mutation run\n",
    "@jit\n",
    "def mutate(mut):\n",
    "    # mut = mutation rate\n",
    "    \n",
    "    # initialize\n",
    "    N1 = 1000\n",
    "    time = 0\n",
    "    N2 = 0; N3 = 0\n",
    "    \n",
    "    # Run!\n",
    "    while N3 == 0:\n",
    "        \n",
    "        # set rates\n",
    "        m11 = (1-mut)*N1; m12 = mut*N1; m22 = (1-mut)*N2; m23 = mut*N2\n",
    "        total = m11+m12+m22+m23\n",
    "        m12 = m12/total; m23 = m23/total\n",
    "        \n",
    "        check = np.random.rand()\n",
    "        \n",
    "        # Does anything happen?\n",
    "        if check < m12+m23:\n",
    "            if check < m12:\n",
    "                # mutation from g1 to g2\n",
    "                N1 -=1; N2 += 1\n",
    "            else:\n",
    "                # mutation from g2 to g3\n",
    "                N2 -= 1; N3 += 1\n",
    "        \n",
    "        # update time\n",
    "        time += 1\n",
    "        \n",
    "    # We hit g3! Report:\n",
    "    return time\n",
    "\n",
    "\n",
    "# get the average time\n",
    "@jit\n",
    "def getAverageHittingTime(mut,numTrials):\n",
    "    \n",
    "    times = np.zeros(numTrials)\n",
    "    \n",
    "    for i in prange(numTrials):\n",
    "        times[i] = mutate(mut)\n",
    "        \n",
    "    return np.mean(times)"
   ]
  },
  {
   "cell_type": "code",
   "execution_count": 45,
   "metadata": {},
   "outputs": [
    {
     "data": {
      "image/png": "[encoded data removed]",
      "text/plain": [
       "<Figure size 432x288 with 1 Axes>"
      ]
     },
     "metadata": {
      "needs_background": "light"
     },
     "output_type": "display_data"
    }
   ],
   "source": [
    "import matplotlib.pyplot as plt\n",
    "\n",
    "mut_rates = [.1/1000,1/1000,10/1000,100/1000]\n",
    "\n",
    "numTrials = 500\n",
    "times = [getAverageHittingTime(mut,numTrials) for mut in mut_rates]\n",
    "naive = [1/mut for mut in mut_rates]\n",
    "plt.plot(mut_rates,times, label = 'simulations')\n",
    "plt.plot(mut_rates,naive, label = \"Naive \" +r\"$ \\frac{1}{\\mu}$\")\n",
    "plt.xlabel(\"mutation rate\",fontsize = 14)\n",
    "plt.ylabel(\"hitting time\",fontsize = 14)\n",
    "plt.yscale(\"log\")\n",
    "plt.xscale(\"log\")\n",
    "plt.legend(fontsize = 14)\n",
    "plt.show()"
   ]
  }
 ],
 "metadata": {
  "kernelspec": {
   "display_name": "Python 3",
   "language": "python",
   "name": "python3"
  },
  "language_info": {
   "codemirror_mode": {
    "name": "ipython",
    "version": 3
   },
   "file_extension": ".py",
   "mimetype": "text/x-python",
   "name": "python",
   "nbconvert_exporter": "python",
   "pygments_lexer": "ipython3",
   "version": "3.7.4"
  }
 },
 "nbformat": 4,
 "nbformat_minor": 2
}
